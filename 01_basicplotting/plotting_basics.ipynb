{
 "cells": [
  {
   "cell_type": "markdown",
   "metadata": {},
   "source": [
    "\n",
    "<center>1 Reflectivity, Attenuation, and Differential Reflectivity at S- vs C-Band\n",
    "=========================\n",
    "<center>\n",
    "<i>Steve Nesbitt<sup>1</sup>, Paola Salio<sup>2,3</sup>, Luciano Vidal<sup>3</sup>\n",
    "<br>\n",
    "<sup>1</sup>University of Illinois at Urbana-Champaign<br>\n",
    "<sup>2</sup>CIMA-CONICET-UBA / DCAO UBA-FCEN<br>\n",
    "<sup>3</sup>Servicio Meteorólogical Nacional, Argentina</i>\n",
    "</center>\n",
    "\n",
    "This exercise will cover the basics of using the Python ARM Radar Toolkit (Py-ART) radar object for plotting your first data. We will introduce some basic plotting concepts and examine some C- and S-Band data from the NASA/DOE Midlatitude Continental Convective Clouds Experiment (MC3E) that took place from April 22 – June 6, 2011, near Lamont, Oklahoma, USA."
   ]
  },
  {
   "cell_type": "markdown",
   "metadata": {},
   "source": [
    "## Let's get the data for this exercise - make sure you have the data from exercise 0"
   ]
  },
  {
   "cell_type": "code",
   "execution_count": null,
   "metadata": {},
   "outputs": [],
   "source": [
    "%%script bash\n",
    "mkdir ../data\n",
    "wget -nc -P ../data https://www.atmos.illinois.edu/~snesbitt/data/cfrad.20110523_222145.000_to_20110523_223049.000_npol1_v1_PPI.nc\n",
    "wget -nc -P ../data https://www.atmos.illinois.edu/~snesbitt/data/cfrad.20110523_222238.000_to_20110523_222256.000_ARM__v0_s00_az189.00_RHI.nc"
   ]
  },
  {
   "cell_type": "markdown",
   "metadata": {},
   "source": [
    "## Get started\n",
    "\n",
    "Let's first set up our C-Band data:"
   ]
  },
  {
   "cell_type": "code",
   "execution_count": null,
   "metadata": {},
   "outputs": [],
   "source": [
    "import pyart\n",
    "from matplotlib import pyplot as plt\n",
    "%matplotlib inline\n",
    "import numpy as np\n",
    "filename = '../data/cfrad.20110523_221616.000_to_20110523_222150.1000_sgpc_v0_SUR.nc'"
   ]
  },
  {
   "cell_type": "code",
   "execution_count": null,
   "metadata": {
    "collapsed": true
   },
   "outputs": [],
   "source": [
    "radar = pyart.io.read(filename)"
   ]
  },
  {
   "cell_type": "markdown",
   "metadata": {},
   "source": [
    "To save memory, we will subset the data for only the first two PPI sweeps."
   ]
  },
  {
   "cell_type": "code",
   "execution_count": null,
   "metadata": {
    "collapsed": true
   },
   "outputs": [],
   "source": [
    "radar = radar.extract_sweeps([0, 1])"
   ]
  },
  {
   "cell_type": "markdown",
   "metadata": {},
   "source": [
    "Now, let's load in the S-Band data into a different structure."
   ]
  },
  {
   "cell_type": "code",
   "execution_count": null,
   "metadata": {},
   "outputs": [],
   "source": [
    "filename2 = '../data/cfrad.20110523_222145.000_to_20110523_223049.000_npol1_v1_PPI.nc'\n",
    "radar2 = pyart.io.read(filename2)\n",
    "radar2 = radar2.extract_sweeps([0, 1])"
   ]
  },
  {
   "cell_type": "markdown",
   "metadata": {},
   "source": [
    "What do we have?"
   ]
  },
  {
   "cell_type": "code",
   "execution_count": null,
   "metadata": {},
   "outputs": [],
   "source": [
    "print radar.fields.keys()"
   ]
  },
  {
   "cell_type": "code",
   "execution_count": null,
   "metadata": {},
   "outputs": [],
   "source": [
    "print radar2.fields.keys()"
   ]
  },
  {
   "cell_type": "markdown",
   "metadata": {},
   "source": [
    "First, let's just make a basic PPI plot!"
   ]
  },
  {
   "cell_type": "code",
   "execution_count": null,
   "metadata": {},
   "outputs": [],
   "source": [
    "#create an instance of the class using our radar\n",
    "display = pyart.graph.RadarMapDisplay(radar)\n",
    "#create a Matplotlib figure\n",
    "f = plt.figure(figsize = [17,4])\n",
    "\n",
    "\n",
    "#now we are going to do a three panel plot, resolution is a basemap parameter and determines the resolution of \n",
    "#the coastline.. here we set to intermediate or 'i' ('h' for high 'l' for low)\n",
    "plt.subplot(1, 3, 1) \n",
    "display.plot_ppi('diff_reflectivity',vmin = -7, vmax = 7)\n",
    "plt.subplot(1, 3, 2) \n",
    "display.plot_ppi('reflectivity_horizontal', vmin = -8, vmax = 64)\n",
    "plt.subplot(1, 3, 3) \n",
    "display.plot_ppi('mean_doppler_velocity', vmin = -15, vmax = 15)\n",
    "\n"
   ]
  },
  {
   "cell_type": "markdown",
   "metadata": {},
   "source": [
    "Ok! We are going to use Py-ART's RadarMapDisplay class to visualize this PPI on a map . This class is well documented and available here: <a href = 'http://arm-doe.github.io/pyart/dev/user_reference/generated/pyart.graph.RadarMapDisplay.html#pyart.graph.RadarMapDisplay'>Click!</a>"
   ]
  },
  {
   "cell_type": "code",
   "execution_count": null,
   "metadata": {},
   "outputs": [],
   "source": [
    "#create an instance of the class using our radar\n",
    "display = pyart.graph.RadarMapDisplay(radar)\n",
    "#create a Matplotlib figure\n",
    "f = plt.figure(figsize = [17,4])\n",
    "minlon=radar.longitude['data']-1.\n",
    "maxlon=radar.longitude['data']+1.\n",
    "minlat=radar.latitude['data']-1.\n",
    "maxlat=radar.latitude['data']+1.\n",
    "\n",
    "\n",
    "#now we are going to do a three panel plot, resolution is a basemap parameter and determines the resolution of \n",
    "#the coastline.. here we set to intermediate or 'i' ('h' for high 'l' for low)\n",
    "plt.subplot(1, 3, 1) \n",
    "display.plot_ppi_map('diff_reflectivity', max_lat = maxlat, min_lat =minlat, min_lon = minlon, max_lon = maxlon,\n",
    "                     vmin = -7, vmax = 7, lat_lines = np.arange(30,40,.2), lon_lines = np.arange(-100,-90, .5),\n",
    "                     resolution = 'i')\n",
    "plt.subplot(1, 3, 2) \n",
    "display.plot_ppi_map('reflectivity_horizontal', max_lat = maxlat, min_lat =minlat, min_lon = minlon, max_lon = maxlon,\n",
    "                     vmin = -8, vmax = 64, lat_lines = np.arange(30,40,.2), lon_lines = np.arange(-100, -90, .5),\n",
    "                     resolution = 'i')\n",
    "plt.subplot(1, 3, 3) \n",
    "display.plot_ppi_map('mean_doppler_velocity', sweep = 1, max_lat = maxlat, min_lat =minlat, min_lon = minlon, max_lon = maxlon,\n",
    "                     vmin = -15, vmax = 15, lat_lines = np.arange(30,40,.2), lon_lines = np.arange(-100, -90, .5),\n",
    "                     resolution = 'i')\n",
    "\n",
    " "
   ]
  },
  {
   "cell_type": "markdown",
   "metadata": {},
   "source": [
    "We can smooth the fields to make them look a bit better if we wish.  Here is an example of using one of the Py-ART internal tools to smooth the data, and duplicate a field within the radar structure.  We will use numpy's built in smoothing to mask $Z_{dr} | \\rho_{hv} < 0.7$"
   ]
  },
  {
   "cell_type": "code",
   "execution_count": null,
   "metadata": {
    "collapsed": true
   },
   "outputs": [],
   "source": [
    "# First we create an independant copy of one of our radar fields.. we need to make sure changes made do not \n",
    "# infer back onto the object it was copied from (common cause of issues in Python)\n",
    "\n",
    "smooth_zdr = radar.fields['diff_reflectivity']['data'].copy()\n",
    "\n",
    "# Now for each of the radials in the volume we want to do an 8-point smooth by convolving the data with a Hanning window..\n",
    "# rather than write out the code here we are going to use Py-ART's smooth and trim function which also makes sure\n",
    "# the returned array has the same size as the original array.. \n",
    "# Check here: https://github.com/ARM-DOE/pyart/blob/master/pyart/correct/phase_proc.py#L242\n",
    "\n",
    "for i in range(smooth_zdr.shape[0]):\n",
    "    smooth_zdr[i,:] = pyart.correct.phase_proc.smooth_and_trim(smooth_zdr[i,:], 8)\n",
    "\n",
    "#Let's mask the data where rho_hv < 0.7\n",
    "    \n",
    "smooth_zdr = np.ma.masked_where(radar.fields['copol_coeff']['data'] < 0.7,smooth_zdr)\n",
    "\n",
    "# Now that we have add this data as a new field, using the same metadata as the \n",
    "# differential_reflectivity field.\n",
    "\n",
    "radar.add_field_like('diff_reflectivity', 'diff_reflectivity_smooth',  smooth_zdr)"
   ]
  },
  {
   "cell_type": "markdown",
   "metadata": {},
   "source": [
    "Ok, let's plot and zoom in a bit."
   ]
  },
  {
   "cell_type": "code",
   "execution_count": null,
   "metadata": {},
   "outputs": [],
   "source": [
    "#create an instance of the class using our radar\n",
    "display = pyart.graph.RadarMapDisplay(radar)\n",
    "#create a Matplotlib figure\n",
    "f = plt.figure(figsize = [11,11])\n",
    "minlon=radar.longitude['data']-1.\n",
    "maxlon=radar.longitude['data']+1.\n",
    "minlat=radar.latitude['data']-1.\n",
    "maxlat=radar.latitude['data']+1.\n",
    "\n",
    "\n",
    "#now we are going to do a three panel plot, resolution is a basemap parameter and determines the resolution of \n",
    "#the coastline.. here we set to intermediate or 'i' ('h' for high 'l' for low)\n",
    "plt.subplot(2, 2, 1) \n",
    "display.plot_ppi('diff_reflectivity', vmin = -7, vmax = 7)\n",
    "plt.xlim(-75,75)\n",
    "plt.ylim(-75,75)\n",
    "\n",
    "plt.subplot(2, 2, 2) \n",
    "display.plot_ppi('diff_reflectivity_smooth', vmin = -7, vmax = 7)\n",
    "plt.xlim(-75,75)\n",
    "plt.ylim(-75,75)\n",
    "\n",
    "plt.subplot(2, 2, 3) \n",
    "display.plot_ppi('reflectivity_horizontal', vmin = -8, vmax = 64)\n",
    "plt.xlim(-75,75)\n",
    "plt.ylim(-75,75)\n",
    "\n",
    "plt.subplot(2, 2, 4) \n",
    "display.plot_ppi('copol_coeff', vmin = 0, vmax = 1)\n",
    "plt.xlim(-75,75)\n",
    "plt.ylim(-75,75)\n",
    "\n",
    "\n"
   ]
  },
  {
   "cell_type": "markdown",
   "metadata": {},
   "source": [
    "Let's clean up the NPOL $Z_{dr}$ in dictionary radar2"
   ]
  },
  {
   "cell_type": "code",
   "execution_count": null,
   "metadata": {
    "collapsed": true
   },
   "outputs": [],
   "source": [
    "# First we create an independant copy of one of our radar fields.. we need to make sure changes made do not \n",
    "# infer back onto the object it was copied from (common cause of issues in Python)\n",
    "\n",
    "smooth_zdr = radar2.fields['DR']['data'].copy()\n",
    "\n",
    "# Now for each of the radials in the volume we want to do an 8-point smooth by convolving the data with a Hanning window..\n",
    "# rather than write out the code here we are going to use Py-ART's smooth and trim function which also makes sure\n",
    "# the returned array has the same size as the original array.. \n",
    "# Check here: https://github.com/ARM-DOE/pyart/blob/master/pyart/correct/phase_proc.py#L242\n",
    "\n",
    "for i in range(smooth_zdr.shape[0]):\n",
    "    smooth_zdr[i,:] = pyart.correct.phase_proc.smooth_and_trim(smooth_zdr[i,:], 8)\n",
    "\n",
    "#Let's mask the data where rho_hv < 0.7\n",
    "    \n",
    "smooth_zdr = np.ma.masked_where(radar2.fields['RH']['data'] < 0.7,smooth_zdr)\n",
    "\n",
    "# Now that we have add this data as a new field, using the same metadata as the \n",
    "# differential_reflectivity field.\n",
    "\n",
    "radar2.add_field_like('DR', 'DR_smooth',  smooth_zdr)"
   ]
  },
  {
   "cell_type": "markdown",
   "metadata": {},
   "source": [
    "Now, let's zoom in (using user-defined limits) and plot both radars on the same map."
   ]
  },
  {
   "cell_type": "code",
   "execution_count": null,
   "metadata": {},
   "outputs": [],
   "source": [
    "#create an instance of the class using our radar\n",
    "#create a Matplotlib figure\n",
    "f = plt.figure(figsize = [17,8])\n",
    "\n",
    "\n",
    "\n",
    "minlon=-98.2\n",
    "maxlon=-97.2\n",
    "minlat=36.1\n",
    "maxlat=36.8\n",
    "\n",
    "display = pyart.graph.RadarMapDisplay(radar)\n",
    "\n",
    "\n",
    "\n",
    "#now we are going to do a three panel plot, resolution is a basemap parameter and determines the resolution of \n",
    "#the coastline.. here we set to intermediate or 'i' ('h' for high 'l' for low)\n",
    "plt.subplot(2, 3, 1) \n",
    "display.plot_ppi_map('diff_reflectivity_smooth', max_lat = maxlat, min_lat =minlat, min_lon = minlon, max_lon = maxlon,\n",
    "                     vmin = -7, vmax = 7, lat_lines = np.arange(30,40,.2), lon_lines = np.arange(-100,-90, .5),\n",
    "                     resolution = 'i')\n",
    "plt.subplot(2, 3, 2) \n",
    "display.plot_ppi_map('reflectivity_horizontal', max_lat = maxlat, min_lat =minlat, min_lon = minlon, max_lon = maxlon,\n",
    "                     vmin = -8, vmax = 64, lat_lines = np.arange(30,40,.2), lon_lines = np.arange(-100, -90, .5),\n",
    "                     resolution = 'i')\n",
    "plt.subplot(2, 3, 3) \n",
    "display.plot_ppi_map('dp_phase_shift', sweep = 0, max_lat = maxlat, min_lat =minlat, min_lon = minlon, max_lon = maxlon,\n",
    "                     vmin = -180, vmax = 180, lat_lines = np.arange(30,40,.2), lon_lines = np.arange(-100, -90, .5),\n",
    "                     resolution = 'i')\n",
    "\n",
    "display = pyart.graph.RadarMapDisplay(radar2)\n",
    "\n",
    "\n",
    "#now we are going to do a three panel plot, resolution is a basemap parameter and determines the resolution of \n",
    "#the coastline.. here we set to intermediate or 'i' ('h' for high 'l' for low)\n",
    "plt.subplot(2, 3, 4) \n",
    "display.plot_ppi_map('DR_smooth', max_lat = maxlat, min_lat =minlat, min_lon = minlon, max_lon = maxlon,\n",
    "                     vmin = -7, vmax = 7, lat_lines = np.arange(30,40,.2), lon_lines = np.arange(-100,-90, .5),\n",
    "                     resolution = 'i')\n",
    "plt.subplot(2, 3, 5) \n",
    "display.plot_ppi_map('DZ', max_lat = maxlat, min_lat =minlat, min_lon = minlon, max_lon = maxlon,\n",
    "                     vmin = -8, vmax = 64, lat_lines = np.arange(30,40,.2), lon_lines = np.arange(-100, -90, .5),\n",
    "                     resolution = 'i')\n",
    "plt.subplot(2, 3, 6) \n",
    "display.plot_ppi_map('PH', sweep = 0, max_lat = maxlat, min_lat =minlat, min_lon = minlon, max_lon = maxlon,\n",
    "                     vmin = 240, vmax = 600, lat_lines = np.arange(30,40,.2), lon_lines = np.arange(-100, -90, .5),\n",
    "                     resolution = 'i')\n",
    "\n",
    " "
   ]
  },
  {
   "cell_type": "markdown",
   "metadata": {},
   "source": [
    "Range-height indicator scans are similarly easy."
   ]
  },
  {
   "cell_type": "code",
   "execution_count": null,
   "metadata": {},
   "outputs": [],
   "source": [
    "filename='../data/cfrad.20110523_222238.000_to_20110523_222256.000_ARM__v0_s00_az189.00_RHI.nc'\n",
    "\n",
    "radar3 = pyart.io.read(filename)\n",
    "radar3.fields"
   ]
  },
  {
   "cell_type": "code",
   "execution_count": null,
   "metadata": {},
   "outputs": [],
   "source": [
    "#create an instance of the class using our radar\n",
    "#create a Matplotlib figure\n",
    "f = plt.figure(figsize = [17,8])\n",
    "\n",
    "display3 = pyart.graph.RadarMapDisplay(radar3)\n",
    "\n",
    "display3.plot_rhi('reflectivity',sweep=0, vmin = -8, vmax = 64, filter_transitions=False)\n"
   ]
  },
  {
   "cell_type": "code",
   "execution_count": null,
   "metadata": {
    "collapsed": true
   },
   "outputs": [],
   "source": []
  }
 ],
 "metadata": {
  "kernelspec": {
   "display_name": "Python 3",
   "language": "python",
   "name": "python3"
  },
  "language_info": {
   "codemirror_mode": {
    "name": "ipython",
    "version": 3
   },
   "file_extension": ".py",
   "mimetype": "text/x-python",
   "name": "python",
   "nbconvert_exporter": "python",
   "pygments_lexer": "ipython3",
   "version": "3.6.2"
  }
 },
 "nbformat": 4,
 "nbformat_minor": 1
}
