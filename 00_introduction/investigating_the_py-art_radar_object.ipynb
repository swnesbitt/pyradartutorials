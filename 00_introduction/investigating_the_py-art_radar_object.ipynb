{
 "cells": [
  {
   "cell_type": "markdown",
   "metadata": {},
   "source": [
    "<center>\n",
    "<h1>Investigating the Py-ART data model for radar data</h1>\n",
    "<i>Scott Collis<sup>1</sup>, \n",
    "Jonathan Helmus<sup>2</sup>, and\n",
    "Steve Nesbitt<sup>3</sup>\n",
    "<br>\n",
    "<sup>1</sup>Argonne National Laboratory\n",
    "<sup>2</sup>Anaconda, Inc.\n",
    "<sup>3</sup>University of Illinois at Urbana-Champaign\n",
    "<br>\n",
    "\n",
    "</center>\n",
    "\n",
    "This notebook explores the data model used for pointing radar data in the Python ARM Radar Toolkit (Py-ART). We will do this by loading a radar file from CF-Radial from ARM's C-Band system in the Southern Great Plains site."
   ]
  },
  {
   "cell_type": "markdown",
   "metadata": {},
   "source": [
    "## Getting the data for this exercise\n",
    "\n",
    "---\n",
    "Run this cell once to download the data:"
   ]
  },
  {
   "cell_type": "code",
   "execution_count": null,
   "metadata": {
    "collapsed": true
   },
   "outputs": [],
   "source": [
    "%%script bash\n",
    "mkdir ../data\n",
    "wget -P ../data https://www.atmos.illinois.edu/~snesbitt/data/cfrad.20110523_221616.000_to_20110523_222150.1000_sgpc_v0_SUR.nc"
   ]
  },
  {
   "cell_type": "markdown",
   "metadata": {},
   "source": [
    "## How to install pyart\n",
    "\n",
    "---\n",
    "Installing pyart using `conda`:\n",
    "    \n",
    "``bash\n",
    "conda install -c jjhelmus trmm_rsl\n",
    "conda install -c conda-forge arm_pyart\n",
    "``\n",
    "\n",
    "Start your notebooks - now you're good to go!\n"
   ]
  },
  {
   "cell_type": "markdown",
   "metadata": {},
   "source": [
    "---\n",
    "## Let's start the exercise"
   ]
  },
  {
   "cell_type": "code",
   "execution_count": 16,
   "metadata": {
    "collapsed": true
   },
   "outputs": [],
   "source": [
    "%matplotlib inline\n",
    "\n",
    "import pyart\n",
    "\n",
    "filename = '../data/cfrad.20110523_221616.000_to_20110523_222150.1000_sgpc_v0_SUR.nc'"
   ]
  },
  {
   "cell_type": "markdown",
   "metadata": {},
   "source": [
    "Read the CF-Radial file into Py-ART's data model for pointing gated data"
   ]
  },
  {
   "cell_type": "code",
   "execution_count": 15,
   "metadata": {
    "collapsed": true
   },
   "outputs": [],
   "source": [
    "radar = pyart.io.read_cfradial(filename)"
   ]
  },
  {
   "cell_type": "markdown",
   "metadata": {},
   "source": [
    "Lets investigate what is at the top level with a dir() command "
   ]
  },
  {
   "cell_type": "code",
   "execution_count": 11,
   "metadata": {},
   "outputs": [
    {
     "data": {
      "text/plain": [
       "['__class__',\n",
       " '__delattr__',\n",
       " '__dict__',\n",
       " '__doc__',\n",
       " '__format__',\n",
       " '__getattribute__',\n",
       " '__getstate__',\n",
       " '__hash__',\n",
       " '__init__',\n",
       " '__module__',\n",
       " '__new__',\n",
       " '__reduce__',\n",
       " '__reduce_ex__',\n",
       " '__repr__',\n",
       " '__setattr__',\n",
       " '__setstate__',\n",
       " '__sizeof__',\n",
       " '__str__',\n",
       " '__subclasshook__',\n",
       " '__weakref__',\n",
       " '_check_sweep_in_range',\n",
       " '_dic_info',\n",
       " 'add_field',\n",
       " 'add_field_like',\n",
       " 'altitude',\n",
       " 'altitude_agl',\n",
       " 'antenna_transition',\n",
       " 'azimuth',\n",
       " 'check_field_exists',\n",
       " 'drift',\n",
       " 'elevation',\n",
       " 'extract_sweeps',\n",
       " 'fields',\n",
       " 'fixed_angle',\n",
       " 'gate_altitude',\n",
       " 'gate_latitude',\n",
       " 'gate_longitude',\n",
       " 'gate_x',\n",
       " 'gate_y',\n",
       " 'gate_z',\n",
       " 'georefs_applied',\n",
       " 'get_azimuth',\n",
       " 'get_elevation',\n",
       " 'get_end',\n",
       " 'get_field',\n",
       " 'get_gate_x_y_z',\n",
       " 'get_nyquist_vel',\n",
       " 'get_slice',\n",
       " 'get_start',\n",
       " 'get_start_end',\n",
       " 'heading',\n",
       " 'info',\n",
       " 'init_gate_altitude',\n",
       " 'init_gate_longitude_latitude',\n",
       " 'init_gate_x_y_z',\n",
       " 'init_rays_per_sweep',\n",
       " 'instrument_parameters',\n",
       " 'iter_azimuth',\n",
       " 'iter_elevation',\n",
       " 'iter_end',\n",
       " 'iter_field',\n",
       " 'iter_slice',\n",
       " 'iter_start',\n",
       " 'iter_start_end',\n",
       " 'latitude',\n",
       " 'longitude',\n",
       " 'metadata',\n",
       " 'ngates',\n",
       " 'nrays',\n",
       " 'nsweeps',\n",
       " 'pitch',\n",
       " 'projection',\n",
       " 'radar_calibration',\n",
       " 'range',\n",
       " 'ray_angle_res',\n",
       " 'rays_are_indexed',\n",
       " 'rays_per_sweep',\n",
       " 'roll',\n",
       " 'rotation',\n",
       " 'scan_rate',\n",
       " 'scan_type',\n",
       " 'sweep_end_ray_index',\n",
       " 'sweep_mode',\n",
       " 'sweep_number',\n",
       " 'sweep_start_ray_index',\n",
       " 'target_scan_rate',\n",
       " 'tilt',\n",
       " 'time']"
      ]
     },
     "execution_count": 11,
     "metadata": {},
     "output_type": "execute_result"
    }
   ],
   "source": [
    "dir(radar)"
   ]
  },
  {
   "cell_type": "markdown",
   "metadata": {},
   "source": [
    "Anything in the data model which contains array-like data is a dictionary with metadata and the actual data contained in the 'data' key, for example the array which contains information about the elevation angle of the sensor. "
   ]
  },
  {
   "cell_type": "code",
   "execution_count": null,
   "metadata": {
    "collapsed": true
   },
   "outputs": [],
   "source": [
    "radar.azimuth.keys()"
   ]
  },
  {
   "cell_type": "code",
   "execution_count": null,
   "metadata": {
    "collapsed": true
   },
   "outputs": [],
   "source": [
    "radar.azimuth['long_name']"
   ]
  },
  {
   "cell_type": "code",
   "execution_count": null,
   "metadata": {
    "collapsed": true
   },
   "outputs": [],
   "source": [
    "radar.azimuth['data']"
   ]
  },
  {
   "cell_type": "code",
   "execution_count": null,
   "metadata": {
    "collapsed": true
   },
   "outputs": [],
   "source": [
    "f = plt.figure(figsize=[15,8])\n",
    "plt.plot(radar.time['data'], radar.azimuth['data'] )\n",
    "plt.xlabel(radar.time['long_name'] + ' (' + radar.time['units'] + ')')\n",
    "plt.ylabel(radar.azimuth['long_name'] + ' (' + radar.azimuth['units'] + ')')"
   ]
  },
  {
   "cell_type": "markdown",
   "metadata": {},
   "source": [
    "So all the pointing data is contained in the base object, the azimuth and elevation of the antenna/sensor plus the range and time axes"
   ]
  },
  {
   "cell_type": "code",
   "execution_count": null,
   "metadata": {
    "collapsed": true
   },
   "outputs": [],
   "source": [
    "print radar.range['data'].min(), radar.range['data'].max(), radar.range['units']\n",
    "f = plt.figure(figsize=[15,8])\n",
    "plt.plot(radar.time['data'], radar.elevation['data'] )\n",
    "plt.xlabel(radar.time['long_name'] + ' (' + radar.time['units'] + ')')\n",
    "plt.ylabel(radar.elevation['long_name'] + ' (' + radar.elevation['units'] + ')')"
   ]
  },
  {
   "cell_type": "markdown",
   "metadata": {},
   "source": [
    "there is also a swag of metadata contained within, well.. the metadata dictionary"
   ]
  },
  {
   "cell_type": "code",
   "execution_count": null,
   "metadata": {
    "collapsed": true
   },
   "outputs": [],
   "source": [
    "for mykey in radar.metadata.keys():\n",
    "    print mykey, ': ', radar.metadata[mykey]"
   ]
  },
  {
   "cell_type": "markdown",
   "metadata": {},
   "source": [
    "Now the final top level bit of information, the data model we use follows CF-Radial morphology and hence has a set of \"helper\" fields to format out the radar coverage pattern. That is, to seperate sweeps."
   ]
  },
  {
   "cell_type": "code",
   "execution_count": null,
   "metadata": {
    "collapsed": true
   },
   "outputs": [],
   "source": [
    "radar.sweep_end_ray_index['data']\n",
    "f = plt.figure(figsize=[15,8])\n",
    "for i in range(len(radar.sweep_end_ray_index['data'])):\n",
    "    start_index = radar.sweep_start_ray_index['data'][i]\n",
    "    end_index = radar.sweep_end_ray_index['data'][i]\n",
    "    plt.plot(radar.time['data'][start_index:end_index], \n",
    "             radar.elevation['data'][start_index:end_index], \n",
    "             label = 'Sweep number '+ str(radar.sweep_number['data'][i]))\n",
    "plt.legend()\n",
    "plt.xlabel(radar.time['long_name'] + ' (' + radar.time['units'] + ')')\n",
    "plt.ylabel(radar.elevation['long_name'] + ' (' + radar.elevation['units'] + ')')    "
   ]
  },
  {
   "cell_type": "code",
   "execution_count": null,
   "metadata": {
    "collapsed": true
   },
   "outputs": [],
   "source": [
    "import numpy as np\n",
    "print np.unique(radar.elevation['data'])"
   ]
  },
  {
   "cell_type": "markdown",
   "metadata": {},
   "source": [
    "Now to the actual data, or what ARM would call Primary Measurements. This is all stored in the field field of the radar object and is a dictionary of dictionaries. Best shown by example:"
   ]
  },
  {
   "cell_type": "code",
   "execution_count": null,
   "metadata": {
    "collapsed": true
   },
   "outputs": [],
   "source": [
    "print radar.fields.keys()\n",
    "print \"\"\n",
    "for mykey in radar.fields.keys():\n",
    "    print mykey,':', radar.fields[mykey]['long_name'] + ' (' + radar.fields[mykey]['units'] + ')'"
   ]
  },
  {
   "cell_type": "markdown",
   "metadata": {},
   "source": [
    "As far as CF-Radial ingest and write is concerned the variable names correspond to the variable names, the non-array data to the variable attributes and the 'data' key to the array.. lets look at some data"
   ]
  },
  {
   "cell_type": "code",
   "execution_count": null,
   "metadata": {
    "collapsed": true
   },
   "outputs": [],
   "source": [
    "f = plt.figure(figsize=[15,8])\n",
    "my_pc = plt.pcolormesh(radar.range['data'], radar.time['data'],\n",
    "                       radar.fields['reflectivity_horizontal']['data'])\n",
    "plt.xlabel(radar.range['long_name'] + ' (' + radar.range['units'] + ')')\n",
    "plt.ylabel(radar.time['long_name'] + ' (' + radar.time['units'] + ')')\n",
    "cb = plt.colorbar(mappable = my_pc)\n",
    "cb.set_label(radar.fields['reflectivity_horizontal']['standard_name'] +\\\n",
    "             ' (' + radar.fields['reflectivity_horizontal']['units'] + ')')\n",
    "    \n"
   ]
  },
  {
   "cell_type": "markdown",
   "metadata": {},
   "source": [
    "And of course we can use our sweep indicators to isolate a single sweep"
   ]
  },
  {
   "cell_type": "code",
   "execution_count": null,
   "metadata": {
    "collapsed": true
   },
   "outputs": [],
   "source": [
    "f = plt.figure(figsize=[15,8])\n",
    "start_index = radar.sweep_start_ray_index['data'][0]\n",
    "end_index = radar.sweep_end_ray_index['data'][0]\n",
    "my_pc = plt.pcolormesh(radar.range['data'], radar.time['data'][start_index:end_index],\n",
    "                       radar.fields['reflectivity_horizontal']['data'][start_index:end_index, :])\n",
    "plt.xlabel(radar.range['long_name'] + ' (' + radar.range['units'] + ')')\n",
    "plt.ylabel(radar.time['long_name'] + ' (' + radar.time['units'] + ')')\n",
    "cb = plt.colorbar(mappable = my_pc)\n",
    "cb.set_label(radar.fields['reflectivity_horizontal']['standard_name'] +\\\n",
    "             ' (' + radar.fields['reflectivity_horizontal']['units'] + ')')"
   ]
  },
  {
   "cell_type": "markdown",
   "metadata": {},
   "source": [
    "We can get a quick overview of what is contained in the radar object using the **info** method."
   ]
  },
  {
   "cell_type": "code",
   "execution_count": null,
   "metadata": {
    "collapsed": true
   },
   "outputs": [],
   "source": [
    "radar.info('compact')   # see what happens with 'standard' or 'full'"
   ]
  },
  {
   "cell_type": "markdown",
   "metadata": {},
   "source": [
    "This functionality is also available from the command line using the **radar_info** command."
   ]
  },
  {
   "cell_type": "code",
   "execution_count": null,
   "metadata": {
    "collapsed": true
   },
   "outputs": [],
   "source": [
    "!radar_info --compact data/cfrad.20110523_220916.000_to_20110523_221451.000_sgpcsapr_v0_SUR.nc"
   ]
  },
  {
   "cell_type": "markdown",
   "metadata": {},
   "source": [
    "Thus concludes the intro! Py-ART, of course, can do all this for you including pretty PPIs etc.. but this gives an introduction to the data model we use.  Questions? Comments? Science Lead: <a href = 'mailto:scollis@anl.gov'> Scott Collis</a>."
   ]
  },
  {
   "cell_type": "code",
   "execution_count": null,
   "metadata": {
    "collapsed": true
   },
   "outputs": [],
   "source": []
  }
 ],
 "metadata": {
  "kernelspec": {
   "display_name": "Python 3",
   "language": "python",
   "name": "python3"
  },
  "language_info": {
   "codemirror_mode": {
    "name": "ipython",
    "version": 3
   },
   "file_extension": ".py",
   "mimetype": "text/x-python",
   "name": "python",
   "nbconvert_exporter": "python",
   "pygments_lexer": "ipython3",
   "version": "3.6.2"
  }
 },
 "nbformat": 4,
 "nbformat_minor": 1
}
